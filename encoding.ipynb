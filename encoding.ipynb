{
 "cells": [
  {
   "cell_type": "markdown",
   "metadata": {},
   "source": [
    "# Character encoding\n",
    "\n",
    "## Unicode\n",
    "Main takeway from [Unicode, Pycon 2020](https://www.youtube.com/watch?v=olhKTHFYNxA&feature=youtu.be): Identify the boundaries of your Python program (opening/writing files, network connections etc.), and do the encoding and decoding there, and only there. Inside the Python program, only work with strings."
   ]
  },
  {
   "cell_type": "code",
   "execution_count": 1,
   "metadata": {},
   "outputs": [],
   "source": [
    "import unicodedata\n",
    "import math\n",
    "import binascii\n",
    "import pandas as pd"
   ]
  },
  {
   "cell_type": "code",
   "execution_count": 2,
   "metadata": {},
   "outputs": [
    {
     "data": {
      "text/plain": [
       "'LATIN CAPITAL LETTER H'"
      ]
     },
     "execution_count": 2,
     "metadata": {},
     "output_type": "execute_result"
    }
   ],
   "source": [
    "unicodedata.name('H')\n",
    "# https://www.fileformat.info/info/unicode/char/0048/index.htm"
   ]
  },
  {
   "cell_type": "code",
   "execution_count": 3,
   "metadata": {},
   "outputs": [
    {
     "name": "stdout",
     "output_type": "stream",
     "text": [
      "01001000\n",
      "b'48'\n"
     ]
    },
    {
     "data": {
      "text/plain": [
       "72.0"
      ]
     },
     "execution_count": 3,
     "metadata": {},
     "output_type": "execute_result"
    }
   ],
   "source": [
    "def make_bitseq(s: str) -> str:\n",
    "    return \" \".join(f\"{ord(i):08b}\" for i in s)\n",
    "\n",
    "print(make_bitseq('H'))\n",
    "print(binascii.hexlify(b'H'))\n",
    "math.pow(2,3)+math.pow(2, 6)"
   ]
  },
  {
   "cell_type": "code",
   "execution_count": 4,
   "metadata": {},
   "outputs": [
    {
     "name": "stdout",
     "output_type": "stream",
     "text": [
      "72\n",
      "0x48\n"
     ]
    },
    {
     "data": {
      "text/plain": [
       "\u001b[0;31mSignature:\u001b[0m \u001b[0mord\u001b[0m\u001b[0;34m(\u001b[0m\u001b[0mc\u001b[0m\u001b[0;34m,\u001b[0m \u001b[0;34m/\u001b[0m\u001b[0;34m)\u001b[0m\u001b[0;34m\u001b[0m\u001b[0;34m\u001b[0m\u001b[0m\n",
       "\u001b[0;31mDocstring:\u001b[0m Return the Unicode code point for a one-character string.\n",
       "\u001b[0;31mType:\u001b[0m      builtin_function_or_method\n"
      ]
     },
     "metadata": {},
     "output_type": "display_data"
    }
   ],
   "source": [
    "print(ord('H'))\n",
    "print(hex(ord('H')))\n",
    "ord?"
   ]
  },
  {
   "cell_type": "code",
   "execution_count": 5,
   "metadata": {},
   "outputs": [
    {
     "data": {
      "text/plain": [
       "1"
      ]
     },
     "execution_count": 5,
     "metadata": {},
     "output_type": "execute_result"
    }
   ],
   "source": [
    "len('😅')"
   ]
  },
  {
   "cell_type": "code",
   "execution_count": 6,
   "metadata": {},
   "outputs": [
    {
     "data": {
      "text/plain": [
       "['0x75', '0x308']"
      ]
     },
     "execution_count": 6,
     "metadata": {},
     "output_type": "execute_result"
    }
   ],
   "source": [
    "s = '\\u00FC' # ü\n",
    "[hex(ord(c)) for c in unicodedata.normalize('NFD', s)]"
   ]
  },
  {
   "cell_type": "code",
   "execution_count": 7,
   "metadata": {},
   "outputs": [
    {
     "data": {
      "text/plain": [
       "True"
      ]
     },
     "execution_count": 7,
     "metadata": {},
     "output_type": "execute_result"
    }
   ],
   "source": [
    "'ABC'.casefold() == 'abc'.casefold()\n",
    "# Bedre å bruke dette enn lower/upper! (ofte ikke mulig i SQL, men bør brukes i Python)"
   ]
  },
  {
   "cell_type": "markdown",
   "metadata": {},
   "source": [
    "## Various encodings\n",
    "UTF-8 is a multibyte encoding that can represent any Unicode character. ISO 8859-1 is a single-byte encoding that can represent the first 256 Unicode characters. Both encode ASCII exactly the same way.\n",
    "Code points 128 - 255 differ by becoming 2-byte sequence with UTF-8 whereas they are single bytes with ISO 8859-1 (Latin-1). Ref. [SO](https://stackoverflow.com/questions/7048745/what-is-the-difference-between-utf-8-and-iso-8859-1)\n",
    "\n",
    "Links with more information:\n",
    "\n",
    "- https://docs.python.org/3/howto/unicode.html\n",
    "- https://www.joelonsoftware.com/2003/10/08/the-absolute-minimum-every-software-developer-absolutely-positively-must-know-about-unicode-and-character-sets-no-excuses/\n",
    "- https://realpython.com/python-encodings-guide/\n",
    "- https://kunststube.net/encoding/\n",
    "- https://mincong.io/2019/04/07/understanding-iso-8859-1-and-utf-8/\n",
    "- https://unicodebook.readthedocs.io/encodings.html"
   ]
  },
  {
   "cell_type": "code",
   "execution_count": 8,
   "metadata": {},
   "outputs": [
    {
     "name": "stdout",
     "output_type": "stream",
     "text": [
      "b'\\xc3\\xb1'\n",
      "b'\\xf1'\n"
     ]
    }
   ],
   "source": [
    "s = \"ñ\"  # https://www.fileformat.info/info/unicode/char/00f1/index.htm.\n",
    "b1 = s.encode(\"utf-8\")\n",
    "b2 = s.encode(\"iso-8859-15\")\n",
    "print(b1)  # Note: Two bytes\n",
    "print(b2)"
   ]
  },
  {
   "cell_type": "code",
   "execution_count": 9,
   "metadata": {},
   "outputs": [
    {
     "name": "stdout",
     "output_type": "stream",
     "text": [
      "ñ\n",
      "ñ\n"
     ]
    }
   ],
   "source": [
    "print(b'\\xc3\\xb1'.decode(\"utf-8\"))\n",
    "print(b'\\xf1'.decode(\"iso-8859-15\"))"
   ]
  },
  {
   "cell_type": "markdown",
   "metadata": {},
   "source": [
    "Examples of using the wrong encoding:"
   ]
  },
  {
   "cell_type": "code",
   "execution_count": 10,
   "metadata": {},
   "outputs": [
    {
     "data": {
      "text/plain": [
       "'Ã±'"
      ]
     },
     "execution_count": 10,
     "metadata": {},
     "output_type": "execute_result"
    }
   ],
   "source": [
    "b'\\xc3\\xb1'.decode(\"iso-8859-15\")"
   ]
  },
  {
   "cell_type": "code",
   "execution_count": 11,
   "metadata": {},
   "outputs": [
    {
     "name": "stdout",
     "output_type": "stream",
     "text": [
      "'utf-8' codec can't decode byte 0xf1 in position 0: unexpected end of data\n"
     ]
    }
   ],
   "source": [
    "try:\n",
    "    b'\\xf1'.decode(\"utf-8\")\n",
    "except UnicodeDecodeError as e:\n",
    "    print(e)"
   ]
  },
  {
   "cell_type": "markdown",
   "metadata": {},
   "source": [
    "In utf-8, ñ is encoded as \\xc3\\xb1. \\xf1 is not part of the utf-8 character list, ref. https://www.fileformat.info/info/charset/UTF-8/list.htm\n"
   ]
  },
  {
   "cell_type": "code",
   "execution_count": 12,
   "metadata": {},
   "outputs": [
    {
     "name": "stdout",
     "output_type": "stream",
     "text": [
      "b'\\xa4'\n",
      "€\n"
     ]
    }
   ],
   "source": [
    "s = '€'\n",
    "b = s.encode(\"iso-8859-15\")\n",
    "print(b)\n",
    "print(b'\\xa4'.decode(\"iso-8859-15\"))"
   ]
  },
  {
   "cell_type": "code",
   "execution_count": 13,
   "metadata": {},
   "outputs": [
    {
     "name": "stdout",
     "output_type": "stream",
     "text": [
      "'latin-1' codec can't encode character '\\u20ac' in position 0: ordinal not in range(256)\n"
     ]
    }
   ],
   "source": [
    "try:\n",
    "    '€'.encode(\"iso-8859-1\")\n",
    "except UnicodeEncodeError as e:\n",
    "    print(e)"
   ]
  },
  {
   "cell_type": "markdown",
   "metadata": {},
   "source": [
    "ISO-8859-15 is similar to ISO 8859-1, and thus also intended for “Western European” languages, but replaces some less common symbols with the euro sign and some letters that were deemed necessary, ref. [Wikipedia](https://en.wikipedia.org/wiki/ISO/IEC_8859-15)."
   ]
  },
  {
   "cell_type": "markdown",
   "metadata": {},
   "source": [
    "## Linux commands\n",
    "\n",
    "in.txt:\n",
    "```\n",
    "H\n",
    "Æ Ø Å\n",
    "ô í ó\n",
    "Ž €\n",
    "```\n",
    "\n",
    "`$ file in.txt`\n",
    "```\n",
    "in.txt: UTF-8 Unicode text\n",
    "```\n",
    "\n",
    "`$ iconv -f utf-8 -t iso-8859-15 in.txt > out.txt`\n",
    "\n",
    "out.txt:\n",
    "```\n",
    "H\n",
    "Æ Ø Å\n",
    "ô í ó\n",
    "´ ¤\n",
    "```\n",
    "\n",
    "`$ hexdump -C in.txt`\n",
    "```\n",
    "00000000  48 0a c3 86 20 c3 98 20  c3 85 0a c3 b4 20 c3 ad  |H... .. ..... ..|\n",
    "00000010  20 c3 b3 0a c5 bd 20 e2  82 ac 0a c2 bc 0a        | ..... .......|\n",
    "```\n",
    "\n",
    "H=48, 0a = end of line,\n",
    "Æ = c3 86, Space = 20, Ø = c3 98, Space=20, Å = c3 85, 0a = end of line\n",
    "etc. (https://www.utf8-chartable.de/)\n",
    "\n",
    "`$ hexdump -C out.txt`\n",
    "```\n",
    "00000000  48 0a c6 20 d8 20 c5 0a  f4 20 ed 20 f3 0a b4 20  |H.. . ... . ... |\n",
    "00000010  a4 0a                                             |..|\n",
    "00000012\n",
    "```\n",
    "\n",
    "H=48, 0a = end of line,\n",
    "Æ = c6 86, Space = 20, Ø = d8, Space=20, Å = c5 85, 0a = end of line,\n",
    "ô = f4, Space = 20, í = ed, Space = 20, ó = f3, 0a = end of line\n",
    "etc. (https://en.wikipedia.org/wiki/ISO/IEC_8859-15 / http://www.columbia.edu/kermit/latin9.html)\n",
    "\n",
    "Ž and € gets converted to  til ´ og ¤, ref. [Wikipedia](https://en.wikipedia.org/wiki/ISO/IEC_8859-15).\n",
    "\n",
    "If the character ¼ is added to in.txt:\n",
    "\n",
    "```\n",
    "iconv: illegal input sequence at position 27\n",
    "```\n",
    "\n",
    "(since the character is not included in iso-8859-15)"
   ]
  },
  {
   "cell_type": "markdown",
   "metadata": {},
   "source": [
    "## Pandas\n",
    "[Unicode Character 'BLACK CHESS KNIGHT'](https://www.fileformat.info/info/unicode/char/265e/index.htm)"
   ]
  },
  {
   "cell_type": "code",
   "execution_count": 14,
   "metadata": {},
   "outputs": [
    {
     "data": {
      "text/html": [
       "<div>\n",
       "<style scoped>\n",
       "    .dataframe tbody tr th:only-of-type {\n",
       "        vertical-align: middle;\n",
       "    }\n",
       "\n",
       "    .dataframe tbody tr th {\n",
       "        vertical-align: top;\n",
       "    }\n",
       "\n",
       "    .dataframe thead th {\n",
       "        text-align: right;\n",
       "    }\n",
       "</style>\n",
       "<table border=\"1\" class=\"dataframe\">\n",
       "  <thead>\n",
       "    <tr style=\"text-align: right;\">\n",
       "      <th></th>\n",
       "      <th>a</th>\n",
       "      <th>b</th>\n",
       "    </tr>\n",
       "  </thead>\n",
       "  <tbody>\n",
       "    <tr>\n",
       "      <th>0</th>\n",
       "      <td>H</td>\n",
       "      <td>♞</td>\n",
       "    </tr>\n",
       "  </tbody>\n",
       "</table>\n",
       "</div>"
      ],
      "text/plain": [
       "   a  b\n",
       "0  H  ♞"
      ]
     },
     "execution_count": 14,
     "metadata": {},
     "output_type": "execute_result"
    }
   ],
   "source": [
    "df = pd.read_csv(\"files/in.csv\", encoding=\"utf-8\")\n",
    "df"
   ]
  },
  {
   "cell_type": "code",
   "execution_count": 15,
   "metadata": {},
   "outputs": [
    {
     "name": "stdout",
     "output_type": "stream",
     "text": [
      "b'612c620a482ce2999e0a'\n"
     ]
    }
   ],
   "source": [
    "with open('files/in.csv', 'rb') as f:\n",
    "    content = f.read()\n",
    "print(binascii.hexlify(content))"
   ]
  },
  {
   "cell_type": "markdown",
   "metadata": {},
   "source": [
    "H=48, comma=2c, black chess knight = e2999e (three bytes), end of line = 0a"
   ]
  },
  {
   "cell_type": "code",
   "execution_count": 16,
   "metadata": {},
   "outputs": [
    {
     "data": {
      "text/html": [
       "<div>\n",
       "<style scoped>\n",
       "    .dataframe tbody tr th:only-of-type {\n",
       "        vertical-align: middle;\n",
       "    }\n",
       "\n",
       "    .dataframe tbody tr th {\n",
       "        vertical-align: top;\n",
       "    }\n",
       "\n",
       "    .dataframe thead th {\n",
       "        text-align: right;\n",
       "    }\n",
       "</style>\n",
       "<table border=\"1\" class=\"dataframe\">\n",
       "  <thead>\n",
       "    <tr style=\"text-align: right;\">\n",
       "      <th></th>\n",
       "      <th>a</th>\n",
       "      <th>b</th>\n",
       "    </tr>\n",
       "  </thead>\n",
       "  <tbody>\n",
       "    <tr>\n",
       "      <th>0</th>\n",
       "      <td>H</td>\n",
       "      <td>â</td>\n",
       "    </tr>\n",
       "  </tbody>\n",
       "</table>\n",
       "</div>"
      ],
      "text/plain": [
       "   a    b\n",
       "0  H  â"
      ]
     },
     "execution_count": 16,
     "metadata": {},
     "output_type": "execute_result"
    }
   ],
   "source": [
    "df2 = pd.read_csv(\"files/in.csv\", encoding=\"iso-8859-1\")\n",
    "df2"
   ]
  },
  {
   "cell_type": "markdown",
   "metadata": {},
   "source": [
    "ISO-8859-1 has a valid character mapping for every possible byte sequence, ref. [SO](https://stackoverflow.com/questions/40029017/python2-using-decode-with-errors-replace-still-returns-errors).\n",
    "\n",
    "Some encodings are able to decode any byte sequences. All encodings of the ISO-8859 family have this property, because all of the 256 code points of these 8 bits encodings are assigned, ref. [link](https://unicodebook.readthedocs.io/encodings.html#undecodable-byte-sequences)"
   ]
  },
  {
   "cell_type": "code",
   "execution_count": 17,
   "metadata": {},
   "outputs": [
    {
     "name": "stdout",
     "output_type": "stream",
     "text": [
      "'latin-1' codec can't encode character '\\u265e' in position 4: ordinal not in range(256)\n"
     ]
    }
   ],
   "source": [
    "# df.to_csv(\"files/out.csv\", encoding=\"utf-8\")  # No problem\n",
    "try:\n",
    "    df.to_csv(\"files/out.csv\", encoding=\"iso-8859-1\")\n",
    "except UnicodeEncodeError as e:\n",
    "    print(e)"
   ]
  },
  {
   "cell_type": "code",
   "execution_count": 18,
   "metadata": {},
   "outputs": [
    {
     "data": {
      "text/html": [
       "<div>\n",
       "<style scoped>\n",
       "    .dataframe tbody tr th:only-of-type {\n",
       "        vertical-align: middle;\n",
       "    }\n",
       "\n",
       "    .dataframe tbody tr th {\n",
       "        vertical-align: top;\n",
       "    }\n",
       "\n",
       "    .dataframe thead th {\n",
       "        text-align: right;\n",
       "    }\n",
       "</style>\n",
       "<table border=\"1\" class=\"dataframe\">\n",
       "  <thead>\n",
       "    <tr style=\"text-align: right;\">\n",
       "      <th></th>\n",
       "      <th>a</th>\n",
       "      <th>b</th>\n",
       "    </tr>\n",
       "  </thead>\n",
       "  <tbody>\n",
       "    <tr>\n",
       "      <th>0</th>\n",
       "      <td>H</td>\n",
       "      <td>?</td>\n",
       "    </tr>\n",
       "  </tbody>\n",
       "</table>\n",
       "</div>"
      ],
      "text/plain": [
       "   a  b\n",
       "0  H  ?"
      ]
     },
     "execution_count": 18,
     "metadata": {},
     "output_type": "execute_result"
    }
   ],
   "source": [
    "df.to_csv(\"files/out.csv\", encoding=\"iso-8859-1\", errors='replace', index=False)\n",
    "df_out = pd.read_csv(\"files/out.csv\", encoding=\"iso-8859-1\")\n",
    "df_out"
   ]
  },
  {
   "cell_type": "code",
   "execution_count": 19,
   "metadata": {},
   "outputs": [
    {
     "data": {
      "text/html": [
       "<div>\n",
       "<style scoped>\n",
       "    .dataframe tbody tr th:only-of-type {\n",
       "        vertical-align: middle;\n",
       "    }\n",
       "\n",
       "    .dataframe tbody tr th {\n",
       "        vertical-align: top;\n",
       "    }\n",
       "\n",
       "    .dataframe thead th {\n",
       "        text-align: right;\n",
       "    }\n",
       "</style>\n",
       "<table border=\"1\" class=\"dataframe\">\n",
       "  <thead>\n",
       "    <tr style=\"text-align: right;\">\n",
       "      <th></th>\n",
       "      <th>a</th>\n",
       "      <th>b</th>\n",
       "    </tr>\n",
       "  </thead>\n",
       "  <tbody>\n",
       "    <tr>\n",
       "      <th>0</th>\n",
       "      <td>H</td>\n",
       "      <td>\\u265e</td>\n",
       "    </tr>\n",
       "  </tbody>\n",
       "</table>\n",
       "</div>"
      ],
      "text/plain": [
       "   a       b\n",
       "0  H  \\u265e"
      ]
     },
     "execution_count": 19,
     "metadata": {},
     "output_type": "execute_result"
    }
   ],
   "source": [
    "df.to_csv(\"files/out.csv\", encoding=\"iso-8859-1\", errors='backslashreplace', index=False)\n",
    "df_out = pd.read_csv(\"files/out.csv\", encoding=\"iso-8859-1\")\n",
    "df_out"
   ]
  },
  {
   "cell_type": "markdown",
   "metadata": {},
   "source": [
    "[New in Pandas version 1.1.0 ((July 28, 2020))](https://pandas.pydata.org/docs/whatsnew/v1.1.0.html): DataFrame.to_csv() and Series.to_csv() now accept an errors argument ([GH22610](https://github.com/pandas-dev/pandas/issues/22610)).\n",
    "\n",
    "errors is an optional string that specifies how encoding and decoding errors are to be handled. Options are *'strict'* (raise ValueError, default), *'ignore'*, *'replace'*, *'backslashreplace'* etc., ref. [docs](https://docs.python.org/3/library/functions.html#open)"
   ]
  },
  {
   "cell_type": "markdown",
   "metadata": {},
   "source": [
    "## Misc database stuff\n",
    "\n",
    "### Oracle\n",
    "```\n",
    "-- Character set\n",
    "SELECT * FROM v$nls_parameters\n",
    " WHERE parameter LIKE '%CHARACTERSET';\n",
    " \n",
    "--The queries below show that the database uses ISO-8859-15\n",
    "-- (ref. https://en.wikipedia.org/wiki/ISO/IEC_8859-15)\n",
    " \n",
    "select 'Adrían Błażéj Смирнов' name from dual; -- Adrían B¿a¿éj ¿¿¿¿¿¿¿\n",
    " \n",
    "select '♞' from dual; -- ¿\n",
    " \n",
    "select 'Ž' from dual; -- Ž\n",
    " \n",
    "select '¼' from dual; -- ¿\n",
    " \n",
    "select 'Ƹ' from dual; -- ¿\n",
    "```"
   ]
  }
 ],
 "metadata": {
  "kernelspec": {
   "display_name": "Python 3",
   "language": "python",
   "name": "python3"
  },
  "language_info": {
   "codemirror_mode": {
    "name": "ipython",
    "version": 3
   },
   "file_extension": ".py",
   "mimetype": "text/x-python",
   "name": "python",
   "nbconvert_exporter": "python",
   "pygments_lexer": "ipython3",
   "version": "3.6.9"
  }
 },
 "nbformat": 4,
 "nbformat_minor": 4
}
